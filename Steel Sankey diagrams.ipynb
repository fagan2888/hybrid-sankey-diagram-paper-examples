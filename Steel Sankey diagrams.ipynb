{
 "cells": [
  {
   "cell_type": "markdown",
   "metadata": {},
   "source": [
    "This notebook produces the example diagrams of steel flows in the paper. To get it set up, see [README](README.md)."
   ]
  },
  {
   "cell_type": "code",
   "execution_count": null,
   "metadata": {
    "collapsed": false
   },
   "outputs": [],
   "source": [
    "from networkx.readwrite import json_graph\n",
    "import json\n",
    "\n",
    "from sankeyview import *\n",
    "from sankeyview.jupyter import show_sankey"
   ]
  },
  {
   "cell_type": "markdown",
   "metadata": {},
   "source": [
    "Load the dataset:"
   ]
  },
  {
   "cell_type": "code",
   "execution_count": null,
   "metadata": {
    "collapsed": true
   },
   "outputs": [],
   "source": [
    "dataset = Dataset.from_csv('steel_flows.csv', dim_process_filename='steel_dim_process.csv')"
   ]
  },
  {
   "cell_type": "markdown",
   "metadata": {},
   "source": [
    "Load some useful hierarchies for describing the data:"
   ]
  },
  {
   "cell_type": "code",
   "execution_count": null,
   "metadata": {
    "collapsed": true
   },
   "outputs": [],
   "source": [
    "with open('steel_hierarchies.json', 'rt') as f:\n",
    "    json_trees = json.load(f)\n",
    "    trees = {k: json_graph.node_link_graph(t) for k, t in json_trees.items()}\n",
    "\n",
    "material_shape = Hierarchy(trees['material_shape'], 'material_shape')\n",
    "func = Hierarchy(trees['function'], 'function')\n",
    "sector = Hierarchy(trees['sector'], 'sector')\n",
    "\n",
    "# Shortcut for partitioning based on process id\n",
    "def p(*values):\n",
    "    return Partition.Simple('process', values)"
   ]
  },
  {
   "cell_type": "markdown",
   "metadata": {},
   "source": [
    "## Figure 9(a)"
   ]
  },
  {
   "cell_type": "code",
   "execution_count": null,
   "metadata": {
    "collapsed": false
   },
   "outputs": [],
   "source": [
    "partition_sectors = Partition.Simple('target.sector', [\n",
    "    (k.replace(' e', '\\ne'), sector._leaves_below(k))\n",
    "    for k in ['Vehicles', 'Construction', 'Industrial equipment', 'Metal Goods']\n",
    "])\n",
    "\n",
    "partition_products = Partition.Simple('process.function', [\n",
    "    (k.capitalize(), func._leaves_below(k + ' products') + func._leaves_below('fab ' + k))\n",
    "    for k in ['flat', 'long', 'cast']\n",
    "])\n",
    "\n",
    "partition_cast_products = Partition([\n",
    "    Group('Hot rolled', [('material_type', ['hot rolled steel'])]),\n",
    "    Group('Cast iron', [('material_type', ['cast iron'])]),\n",
    "    Group('Cast steel', [('material_type', ['cast steel'])])\n",
    "])\n",
    "\n",
    "order1 = [\n",
    "    [['inputs', 'scrap sources', 'wpt_fab_scrap'], [], [], []],\n",
    "    [['steelmaking'], ['forming scrap collection'], [], []],\n",
    "    [['cold forming', 'wpt_cast_prods'], ['scrap2'], [], ['loss']],\n",
    "    [['products'], [], ['fab scrap'], []],\n",
    "    [['manufacturing2'], [], [], []],\n",
    "    [['manufacturing1'], [], [], []],\n",
    "]\n",
    "\n",
    "nodes1 = {\n",
    "    'inputs':         ProcessGroup(func('inputs'), title='Iron ore'),\n",
    "\n",
    "    'steelmaking':    ProcessGroup(func('scrap prep', 'reduction', 'steelmaking', 'casting', 'hot forming'),\n",
    "                                   title='Steelmaking\\n& hot forming'),\n",
    "\n",
    "    'cold forming':   ProcessGroup(func('cold forming', 'galvanising', 'organic coating'),\n",
    "                                   title='Cold rolling\\n& coating'),\n",
    "                             \n",
    "    'products':       ProcessGroup(func('intermediate products', 'fabrication'), partition_products,\n",
    "                                   title='Fabrication by type'),\n",
    "    \n",
    "    'fab scrap':      ProcessGroup(func('scrap'), direction='L', title=''),\n",
    "    \n",
    "    'manufacturing2': Waypoint(partition_sectors),\n",
    "    'manufacturing1': ProcessGroup(func('manufacturing'), title='Manufacturing'),\n",
    "    \n",
    "    'wpt_cast_prods': Waypoint(partition_cast_products, title=''),\n",
    "\n",
    "    'loss':           ProcessGroup(('reduction loss', 'steelmaking loss', 'casting loss', 'forming loss'),\n",
    "                                   title='Losses'),\n",
    "    \n",
    "    'forming scrap collection': ProcessGroup(('forming scrap collection',), direction='L', title='Forming scrap'),\n",
    "    'scrap sources':            ProcessGroup(('end of life scrap',), title='EOL scrap'),\n",
    "    \n",
    "    'wpt_fab_scrap':  Waypoint(title='Fabrication scrap'),\n",
    "    'scrap2':         Waypoint(title='', direction='L'),\n",
    "}\n",
    "\n",
    "bundles1 = [\n",
    "    Bundle('inputs', 'steelmaking'),\n",
    "    \n",
    "    Bundle('steelmaking', 'cold forming'),\n",
    "    \n",
    "    Bundle('steelmaking', 'products', waypoints=['wpt_cast_prods']),\n",
    "    Bundle('cold forming', 'products'),\n",
    "    Bundle('products', 'fab scrap'),\n",
    "    Bundle('fab scrap', 'steelmaking', waypoints=['wpt_fab_scrap']),\n",
    "    \n",
    "    Bundle('steelmaking', 'loss', waypoints=[]),\n",
    "    \n",
    "    Bundle('steelmaking', 'forming scrap collection'),\n",
    "    Bundle('cold forming', 'forming scrap collection', waypoints=['scrap2']),\n",
    "    \n",
    "    Bundle('forming scrap collection', 'steelmaking'),\n",
    "    Bundle('scrap sources', 'steelmaking'),\n",
    "    \n",
    "    Bundle('products', 'manufacturing1', waypoints=['manufacturing2'])\n",
    "]\n",
    "\n",
    "sdd1 = SankeyDefinition(nodes1, bundles1, order1, flow_partition=dataset.partition('material_type'))"
   ]
  },
  {
   "cell_type": "code",
   "execution_count": null,
   "metadata": {
    "collapsed": false
   },
   "outputs": [],
   "source": [
    "show_sankey(sdd1, dataset, width=900, height=400,\n",
    "            override_link_layout={\n",
    "                \"products^Flat-fab scrap^*-unknown\": {'r0': 15, 'r1': 15},\n",
    "            }\n",
    ").auto_save_svg('steel_sankey_1.svg')"
   ]
  },
  {
   "cell_type": "markdown",
   "metadata": {},
   "source": [
    "> *The layout overrides are currently experimental and undocumented features of the Sankey layout code.*"
   ]
  },
  {
   "cell_type": "markdown",
   "metadata": {},
   "source": [
    "## Figure 9(b)\n",
    "\n",
    "First, define several partitions used in the diagram:"
   ]
  },
  {
   "cell_type": "code",
   "execution_count": null,
   "metadata": {
    "collapsed": true
   },
   "outputs": [],
   "source": [
    "# Partition by material coating\n",
    "partition_coating = Partition.Simple('material_coating', [\n",
    "    ('Tin & organic',['tin', 'organic']),\n",
    "    ('Galvanized',   ['galvanised']),\n",
    "    ('Uncoated',     ['none']),\n",
    "])\n",
    "\n",
    "# Partition by material type\n",
    "partition_type = Partition.Simple('material_type', [\n",
    "    (k.capitalize(), [k])\n",
    "    for k in ['cast steel', 'cast iron', 'cold rolled steel', 'hot rolled steel']\n",
    "])\n",
    "\n",
    "# Partition by material shape\n",
    "partition_shapes = Partition.Simple('material_shape', [\n",
    "    ('Cast products',    ['cast products']),\n",
    "    ('Electrical sheet', ['electrical sheet']),\n",
    "    ('Rod/bar',          ['rod/bar']),\n",
    "    ('Coil',             ['coil']),\n",
    "    ('Narrow strip',     ['narrow strip']),\n",
    "    ('Plate',            ['plate']),\n",
    "    ('Tube',             ['seamless tube', 'welded tube']),\n",
    "    ('Bar',              ['bar']),\n",
    "    ('Wire rod',         ['wire rod']),\n",
    "    ('Sections',         ['light sections', 'heavy sections', 'rail']),\n",
    "    ('Reinforcing bar',  ['reinforcing bar']),\n",
    "])\n",
    "\n",
    "# Material types are sorted alphanumerically -- force the order to be the same as partition_shapes\n",
    "partition_shapes_ordered = Partition([\n",
    "    Group('{:03d}_{}'.format(i, m.label), m.query)\n",
    "    for i, m in enumerate(partition_shapes.groups)\n",
    "])\n",
    "\n",
    "# Partition by the larger product categories, based on which process made them\n",
    "partition_products2 = Partition.Simple('source.function', [\n",
    "    (k.capitalize(), [k + ' products'] + func._leaves_below('fab ' + k))\n",
    "    for k in ['cast', 'flat', 'long']\n",
    "])\n",
    "\n",
    "# Partition by the high-level groups of sectors using the steel\n",
    "partition_sectors2 = Partition.Simple('target.sector', [\n",
    "    (k.replace(' e', '\\ne'), sector._leaves_below(k))\n",
    "    for k in ['Vehicles', 'Industrial equipment', 'Metal Goods', 'Construction']\n",
    "])"
   ]
  },
  {
   "cell_type": "markdown",
   "metadata": {},
   "source": [
    "Now the actual diagram definition:"
   ]
  },
  {
   "cell_type": "code",
   "execution_count": null,
   "metadata": {
    "collapsed": false
   },
   "outputs": [],
   "source": [
    "order2 = [\n",
    "    [['products_coating']],\n",
    "    [['products_type']],\n",
    "    [['products_shape']],\n",
    "    [['products_grouped']],\n",
    "    [['manufacturing']],\n",
    "]\n",
    "\n",
    "nodes2 = {\n",
    "    'products_coating': Waypoint(partition_coating, title='Coating'),\n",
    "    'products_type':    Waypoint(partition_type, title='Steel type'),\n",
    "    'products_shape':   Waypoint(partition_shapes),\n",
    "    'products_grouped': Waypoint(partition_products2),\n",
    "    'manufacturing':    ProcessGroup(func('manufacturing'), partition_sectors2, title='Manufacturing'),\n",
    "}\n",
    "\n",
    "bundles2 = [\n",
    "    Bundle(Elsewhere, 'manufacturing',\n",
    "           waypoints=['products_coating', 'products_type', 'products_shape', 'products_grouped']),\n",
    "]\n",
    "\n",
    "sdd2 = SankeyDefinition(nodes2, bundles2, order2, flow_partition=partition_shapes_ordered)"
   ]
  },
  {
   "cell_type": "markdown",
   "metadata": {},
   "source": [
    "Set up the colours"
   ]
  },
  {
   "cell_type": "code",
   "execution_count": null,
   "metadata": {
    "collapsed": false
   },
   "outputs": [],
   "source": [
    "from palettable.colorbrewer import qualitative\n",
    "import itertools\n",
    "palette = qualitative.Pastel1_9.hex_colors\n",
    "palette = {m.label: v for m, v in zip(partition_shapes_ordered.groups, itertools.cycle(palette))}"
   ]
  },
  {
   "cell_type": "code",
   "execution_count": null,
   "metadata": {
    "collapsed": false
   },
   "outputs": [],
   "source": [
    "show_sankey(sdd2, dataset, width=900, height=400, palette=palette, align_link_types=True\n",
    ").auto_save_svg('steel_sankey_2.svg')"
   ]
  }
 ],
 "metadata": {
  "anaconda-cloud": {},
  "kernelspec": {
   "display_name": "Python [conda env:sankeyview-test]",
   "language": "python",
   "name": "conda-env-sankeyview-test-py"
  },
  "language_info": {
   "codemirror_mode": {
    "name": "ipython",
    "version": 3
   },
   "file_extension": ".py",
   "mimetype": "text/x-python",
   "name": "python",
   "nbconvert_exporter": "python",
   "pygments_lexer": "ipython3",
   "version": "3.5.2"
  }
 },
 "nbformat": 4,
 "nbformat_minor": 0
}
